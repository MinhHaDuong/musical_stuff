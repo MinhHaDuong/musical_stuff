{
 "cells": [
  {
   "cell_type": "code",
   "execution_count": 2,
   "metadata": {},
   "outputs": [],
   "source": [
    "from ChromaPython import ChromaApp, ChromaAppInfo, ChromaColor, Colors, ChromaGrid\n",
    "from time import sleep\n",
    "\n",
    "Info = ChromaAppInfo()\n",
    "Info.DeveloperName = 'Stephen Larroque'\n",
    "Info.DeveloperContact = 'na'\n",
    "Info.Category = 'application'\n",
    "Info.SupportedDevices = ['chromalink']\n",
    "Info.Description = 'ChromaLink devices controlled by virtual midi.'\n",
    "Info.Title = 'ChromaLink Midi'\n",
    "\n",
    "App = ChromaApp(Info)\n",
    "\n",
    "sleep(2)"
   ]
  },
  {
   "cell_type": "code",
   "execution_count": 7,
   "metadata": {},
   "outputs": [
    {
     "name": "stdout",
     "output_type": "stream",
     "text": [
      "TESTING CHROMALINK DEVICES\n",
      "(True, 0)\n",
      "(True, 0)\n",
      "(True, 0)\n",
      "(True, 0)\n",
      "(True, 0)\n",
      "(True, 0)\n",
      "(True, 0)\n",
      "(True, 0)\n",
      "(True, 0)\n",
      "(True, 0)\n"
     ]
    }
   ],
   "source": [
    "colors_list = [Colors.RED, Colors.BLUE, Colors.GREEN]\n",
    "print('TESTING CHROMALINK DEVICES')\n",
    "for i in range(10):\n",
    "    print(App.ChromaLink.setStatic(colors_list[i % len(colors_list)]))\n",
    "    sleep(1)\n",
    "App.ChromaLink.setStatic()"
   ]
  }
 ],
 "metadata": {
  "kernelspec": {
   "display_name": "Python 3",
   "language": "python",
   "name": "python3"
  },
  "language_info": {
   "codemirror_mode": {
    "name": "ipython",
    "version": 3
   },
   "file_extension": ".py",
   "mimetype": "text/x-python",
   "name": "python",
   "nbconvert_exporter": "python",
   "pygments_lexer": "ipython3",
   "version": "3.8.3"
  }
 },
 "nbformat": 4,
 "nbformat_minor": 4
}
